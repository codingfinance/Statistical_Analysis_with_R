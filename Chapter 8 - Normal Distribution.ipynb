{
 "cells": [
  {
   "cell_type": "markdown",
   "metadata": {},
   "source": [
    "Important functions in R that belong to the Normal Distribution family. In this chapter we will learn more about them.\n",
    "\n",
    "- `rnorm()`\n",
    "- `dnorm()`\n",
    "- `pnorm()`\n",
    "- `qnorm()`"
   ]
  },
  {
   "cell_type": "markdown",
   "metadata": {},
   "source": [
    "# `rnorm()`"
   ]
  },
  {
   "cell_type": "code",
   "execution_count": 4,
   "metadata": {},
   "outputs": [
    {
     "data": {
      "text/html": [
       "<ol class=list-inline>\n",
       "\t<li>2.42013667964916</li>\n",
       "\t<li>-0.270183548414914</li>\n",
       "\t<li>0.203577243694974</li>\n",
       "\t<li>-0.663476419610781</li>\n",
       "\t<li>-0.108578158685954</li>\n",
       "\t<li>0.465577935944123</li>\n",
       "\t<li>0.35718937713451</li>\n",
       "\t<li>-0.907312030241349</li>\n",
       "\t<li>1.54795187721815</li>\n",
       "\t<li>-0.8342848900409</li>\n",
       "</ol>\n"
      ],
      "text/latex": [
       "\\begin{enumerate*}\n",
       "\\item 2.42013667964916\n",
       "\\item -0.270183548414914\n",
       "\\item 0.203577243694974\n",
       "\\item -0.663476419610781\n",
       "\\item -0.108578158685954\n",
       "\\item 0.465577935944123\n",
       "\\item 0.35718937713451\n",
       "\\item -0.907312030241349\n",
       "\\item 1.54795187721815\n",
       "\\item -0.8342848900409\n",
       "\\end{enumerate*}\n"
      ],
      "text/markdown": [
       "1. 2.42013667964916\n",
       "2. -0.270183548414914\n",
       "3. 0.203577243694974\n",
       "4. -0.663476419610781\n",
       "5. -0.108578158685954\n",
       "6. 0.465577935944123\n",
       "7. 0.35718937713451\n",
       "8. -0.907312030241349\n",
       "9. 1.54795187721815\n",
       "10. -0.8342848900409\n",
       "\n",
       "\n"
      ],
      "text/plain": [
       " [1]  2.4201367 -0.2701835  0.2035772 -0.6634764 -0.1085782  0.4655779\n",
       " [7]  0.3571894 -0.9073120  1.5479519 -0.8342849"
      ]
     },
     "metadata": {},
     "output_type": "display_data"
    }
   ],
   "source": [
    "suppressMessages(library(tidyverse))\n",
    "\n",
    "mean = 0\n",
    "std = 1\n",
    "# observations\n",
    "obs = 10\n",
    "\n",
    "rnorm(obs,mean,std)"
   ]
  },
  {
   "cell_type": "markdown",
   "metadata": {},
   "source": [
    "`rnorm()` creates a random normal variables for a given mean and standard deviation."
   ]
  },
  {
   "cell_type": "code",
   "execution_count": 11,
   "metadata": {},
   "outputs": [
    {
     "name": "stdout",
     "output_type": "stream",
     "text": [
      "[1] 0.006997613\n",
      "[1] 1.0018\n"
     ]
    },
    {
     "data": {
      "image/png": "[encoded data removed]",
      "text/plain": [
       "plot without title"
      ]
     },
     "metadata": {},
     "output_type": "display_data"
    }
   ],
   "source": [
    "mean = 0\n",
    "std = 1\n",
    "# observations\n",
    "obs = 10000\n",
    "\n",
    "df = tibble(a = rnorm(obs,mean,std))\n",
    "\n",
    "df %>%\n",
    "  ggplot(aes(x = a)) +\n",
    "  geom_histogram(bins = 30) +\n",
    "  labs(x = 'observations',\n",
    "       y = 'frequency')\n",
    "\n",
    "print(mean(df$a))\n",
    "print(sd(df$a))"
   ]
  },
  {
   "cell_type": "markdown",
   "metadata": {},
   "source": [
    "The `dnorm()` function is used to calculate the height of a point under the curve."
   ]
  },
  {
   "cell_type": "markdown",
   "metadata": {},
   "source": [
    "Example - Suppose the mean IQ for a distribution is 100 and standard deviation is 15. Then we can calculate the height of the of observation 100 by using the `dnorm()` function."
   ]
  },
  {
   "cell_type": "code",
   "execution_count": 12,
   "metadata": {},
   "outputs": [
    {
     "data": {
      "text/html": [
       "0.0265961520267622"
      ],
      "text/latex": [
       "0.0265961520267622"
      ],
      "text/markdown": [
       "0.0265961520267622"
      ],
      "text/plain": [
       "[1] 0.02659615"
      ]
     },
     "metadata": {},
     "output_type": "display_data"
    }
   ],
   "source": [
    "mean = 100\n",
    "sd = 15\n",
    "\n",
    "obs = 100\n",
    "\n",
    "dnorm(obs,mean,sd)"
   ]
  },
  {
   "cell_type": "markdown",
   "metadata": {},
   "source": [
    "We can us dnorm to calculate the height a several points to construct a normal distribution."
   ]
  },
  {
   "cell_type": "code",
   "execution_count": 13,
   "metadata": {},
   "outputs": [],
   "source": [
    "# Lets create a sequence for all the IQs\n",
    "x <- seq(from = 40, to = 160, by = 1)\n",
    "\n",
    "# Calculate the height for each observation\n",
    "y = dnorm(x, mean = 100, sd = 15)"
   ]
  },
  {
   "cell_type": "markdown",
   "metadata": {},
   "source": [
    "Next we can plot the normal distribution."
   ]
  },
  {
   "cell_type": "code",
   "execution_count": 21,
   "metadata": {},
   "outputs": [
    {
     "data": {
      "image/png": "[encoded data removed]",
      "text/plain": [
       "plot without title"
      ]
     },
     "metadata": {},
     "output_type": "display_data"
    }
   ],
   "source": [
    "ggplot(NULL, aes(x = x, y = y)) +\n",
    "    geom_line() +\n",
    "    labs(x = 'IQ scores',\n",
    "        y = 'f(IQ)',\n",
    "        title = 'IQ scores bell curve with\\nmean = 100, sd = 15') +\n",
    "    scale_x_continuous(breaks = seq(40,160,5))"
   ]
  },
  {
   "cell_type": "markdown",
   "metadata": {},
   "source": [
    "We can use the above normal distribution to calculate probability of a person scoring above 160 IQ. We will do this later in this chapter."
   ]
  },
  {
   "cell_type": "markdown",
   "metadata": {},
   "source": [
    "# Plotting the 1,2,3 Standard deviations."
   ]
  },
  {
   "cell_type": "code",
   "execution_count": 28,
   "metadata": {},
   "outputs": [
    {
     "data": {
      "image/png": "[encoded data removed]",
      "text/plain": [
       "plot without title"
      ]
     },
     "metadata": {},
     "output_type": "display_data"
    }
   ],
   "source": [
    "x <- seq(40,160,1)\n",
    "sd_val <- seq(40,160,15)\n",
    "zeros <- rep(0,length(sd_val))\n",
    "\n",
    "ggplot(NULL,aes(x = x,\n",
    "                y = dnorm(x,100,15))) +\n",
    "  geom_line() +\n",
    "  geom_segment((aes(x = sd_val, y = zeros, \n",
    "                    xend = sd_val, yend = dnorm(sd_val,m = 100, s = 15))), linetype = 'dashed') +\n",
    "  scale_x_continuous(breaks = sd_val, labels = sd_val) +\n",
    "  labs(x = 'IQ scores', y = 'f(IQ)', title = \"Normal Distribution of IQ scores\\nwith various standard deviation values\")"
   ]
  },
  {
   "cell_type": "code",
   "execution_count": null,
   "metadata": {},
   "outputs": [],
   "source": []
  }
 ],
 "metadata": {
  "kernelspec": {
   "display_name": "R",
   "language": "R",
   "name": "ir"
  },
  "language_info": {
   "codemirror_mode": "r",
   "file_extension": ".r",
   "mimetype": "text/x-r-source",
   "name": "R",
   "pygments_lexer": "r",
   "version": "3.5.2"
  }
 },
 "nbformat": 4,
 "nbformat_minor": 2
}
