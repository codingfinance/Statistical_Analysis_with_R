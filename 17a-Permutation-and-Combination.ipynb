{
 "cells": [
  {
   "cell_type": "markdown",
   "metadata": {},
   "source": [
    "An important aspect of Statistics and Probability is the ability to count large numbers. To count large numbers we need to learn about Permutations and Combinations."
   ]
  },
  {
   "cell_type": "markdown",
   "metadata": {},
   "source": [
    "### Permuatation\n",
    "\n",
    "Suppose you have to arrange five objects into a sequence. How many ways can you\n",
    "do that?\n",
    "\n",
    "Here the order of the objects matters, hence we will use permuation to count the number of ways we can arrange the objects."
   ]
  },
  {
   "cell_type": "code",
   "execution_count": 1,
   "metadata": {},
   "outputs": [
    {
     "data": {
      "text/html": [
       "120"
      ],
      "text/latex": [
       "120"
      ],
      "text/markdown": [
       "120"
      ],
      "text/plain": [
       "[1] 120"
      ]
     },
     "metadata": {},
     "output_type": "display_data"
    }
   ],
   "source": [
    "5*4*3*2*1"
   ]
  },
  {
   "cell_type": "code",
   "execution_count": 2,
   "metadata": {},
   "outputs": [
    {
     "data": {
      "text/html": [
       "120"
      ],
      "text/latex": [
       "120"
      ],
      "text/markdown": [
       "120"
      ],
      "text/plain": [
       "[1] 120"
      ]
     },
     "metadata": {},
     "output_type": "display_data"
    }
   ],
   "source": [
    "factorial(5) / factorial(5-5)"
   ]
  },
  {
   "cell_type": "markdown",
   "metadata": {},
   "source": [
    "Permuation Examples."
   ]
  },
  {
   "cell_type": "markdown",
   "metadata": {},
   "source": [
    "A Horse race has 12 horses. How many ways can we get the 1st, 2nd and 3rd place finish?"
   ]
  },
  {
   "cell_type": "code",
   "execution_count": 3,
   "metadata": {},
   "outputs": [
    {
     "data": {
      "text/html": [
       "1320"
      ],
      "text/latex": [
       "1320"
      ],
      "text/markdown": [
       "1320"
      ],
      "text/plain": [
       "[1] 1320"
      ]
     },
     "metadata": {},
     "output_type": "display_data"
    }
   ],
   "source": [
    "factorial(12) / factorial(12 - 3)"
   ]
  },
  {
   "cell_type": "markdown",
   "metadata": {},
   "source": [
    "There 1320 different ways we can arrange the top 3 winners."
   ]
  },
  {
   "cell_type": "markdown",
   "metadata": {},
   "source": [
    "During a baseball season, an MLB team has 25 players on a roster and a manager can only select 9. How many different lineups(batting order) can a manager make use of?\n",
    "\n",
    "We have 25 choose 9."
   ]
  },
  {
   "cell_type": "code",
   "execution_count": 4,
   "metadata": {},
   "outputs": [
    {
     "data": {
      "text/html": [
       "741354768000"
      ],
      "text/latex": [
       "741354768000"
      ],
      "text/markdown": [
       "741354768000"
      ],
      "text/plain": [
       "[1] 741354768000"
      ]
     },
     "metadata": {},
     "output_type": "display_data"
    }
   ],
   "source": [
    "factorial(25) / factorial(25 - 9)"
   ]
  },
  {
   "cell_type": "markdown",
   "metadata": {},
   "source": [
    "We have more than 7.41 Billion possibilities of lineups."
   ]
  },
  {
   "cell_type": "markdown",
   "metadata": {},
   "source": [
    "A website requires you to make a 16 digit passwords. You are allowed to use only the letters(upper and lowercase) and numbers and special characters. How many different 16 digit passwords can you make?"
   ]
  },
  {
   "cell_type": "code",
   "execution_count": 5,
   "metadata": {},
   "outputs": [
    {
     "name": "stdout",
     "output_type": "stream",
     "text": [
      "[1] 1.788908e+29\n"
     ]
    }
   ],
   "source": [
    "# Options\n",
    "upper = 26\n",
    "lower = 26\n",
    "numbers = 10\n",
    "special = 13\n",
    "\n",
    "# Total\n",
    "total = upper + lower + numbers + special\n",
    "\n",
    "\n",
    "choose = 16\n",
    "\n",
    "perm = factorial(total) / factorial(total - choose)\n",
    "\n",
    "print(perm)"
   ]
  },
  {
   "cell_type": "markdown",
   "metadata": {},
   "source": [
    "That's a very large number, and the password may be very hard to crack. Its a good idea to have a strong password."
   ]
  },
  {
   "cell_type": "markdown",
   "metadata": {},
   "source": [
    "### Combinations\n",
    "\n",
    "In combinations, the order doesnt matter. Lets go back to the base ball example."
   ]
  },
  {
   "cell_type": "markdown",
   "metadata": {},
   "source": [
    "During a baseball season, an MLB team has 25 players on a roster and a manager can only select 9. How many different groups/teams of players can a manager choose?"
   ]
  },
  {
   "cell_type": "code",
   "execution_count": 6,
   "metadata": {},
   "outputs": [
    {
     "data": {
      "text/html": [
       "2042975"
      ],
      "text/latex": [
       "2042975"
      ],
      "text/markdown": [
       "2042975"
      ],
      "text/plain": [
       "[1] 2042975"
      ]
     },
     "metadata": {},
     "output_type": "display_data"
    }
   ],
   "source": [
    "factorial(25) /(factorial(9) * factorial(25 - 9))"
   ]
  },
  {
   "cell_type": "markdown",
   "metadata": {},
   "source": [
    "Now when the order does not matter we have a little more than 2 million ways to choose our team. Thats much less than the 7.41 Billion we had before."
   ]
  },
  {
   "cell_type": "markdown",
   "metadata": {},
   "source": [
    "There are 30 stocks in the Dow Jones. Each month we decide to invest in 1 stock for the next 6 months. \n",
    "\n",
    "How many unique groups of 6 stock portfolio are possible?"
   ]
  },
  {
   "cell_type": "code",
   "execution_count": 7,
   "metadata": {},
   "outputs": [
    {
     "data": {
      "text/html": [
       "593775"
      ],
      "text/latex": [
       "593775"
      ],
      "text/markdown": [
       "593775"
      ],
      "text/plain": [
       "[1] 593775"
      ]
     },
     "metadata": {},
     "output_type": "display_data"
    }
   ],
   "source": [
    "factorial(30) /(factorial(6) * factorial(30 - 6))"
   ]
  },
  {
   "cell_type": "markdown",
   "metadata": {},
   "source": [
    "We can have 593775 unique portfolios of stocks."
   ]
  },
  {
   "cell_type": "markdown",
   "metadata": {},
   "source": [
    "----\n",
    "More examples."
   ]
  },
  {
   "cell_type": "markdown",
   "metadata": {},
   "source": [
    "A pizza shop offers a special medium pizza with 3 different toppins for $9.99. There are 10 toppings in total. How many different pizza types can be made?"
   ]
  },
  {
   "cell_type": "code",
   "execution_count": 8,
   "metadata": {},
   "outputs": [
    {
     "name": "stdout",
     "output_type": "stream",
     "text": [
      "We can have 120 different types of pizzas"
     ]
    }
   ],
   "source": [
    "comb = factorial(10) /(factorial(3) * factorial(10 - 3))\n",
    "\n",
    "cat(\"We can have\", comb, \"different types of pizzas\")"
   ]
  },
  {
   "cell_type": "markdown",
   "metadata": {},
   "source": [
    "A lottery requires you to get 6 numbers correct from a possible choice of 52 in any order. How many different groups of winning lottery numbers are there."
   ]
  },
  {
   "cell_type": "code",
   "execution_count": 9,
   "metadata": {},
   "outputs": [
    {
     "name": "stdout",
     "output_type": "stream",
     "text": [
      "We can have 20358520 different possible ways."
     ]
    }
   ],
   "source": [
    "comb = factorial(52) /(factorial(6) * factorial(52 - 6))\n",
    "cat(\"We can have\", comb, \"different possible ways.\")"
   ]
  },
  {
   "cell_type": "code",
   "execution_count": null,
   "metadata": {},
   "outputs": [],
   "source": []
  }
 ],
 "metadata": {
  "kernelspec": {
   "display_name": "R",
   "language": "R",
   "name": "ir"
  },
  "language_info": {
   "codemirror_mode": "r",
   "file_extension": ".r",
   "mimetype": "text/x-r-source",
   "name": "R",
   "pygments_lexer": "r",
   "version": "3.5.2"
  }
 },
 "nbformat": 4,
 "nbformat_minor": 2
}
