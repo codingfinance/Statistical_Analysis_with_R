{
 "cells": [
  {
   "cell_type": "markdown",
   "metadata": {},
   "source": [
    "Descriptive Statistics in R"
   ]
  },
  {
   "cell_type": "markdown",
   "metadata": {},
   "source": [
    "First lets get the data."
   ]
  },
  {
   "cell_type": "code",
   "execution_count": 1,
   "metadata": {},
   "outputs": [
    {
     "data": {
      "text/html": [
       "<ol class=list-inline>\n",
       "\t<li>93</li>\n",
       "\t<li>27</li>\n",
       "</ol>\n"
      ],
      "text/latex": [
       "\\begin{enumerate*}\n",
       "\\item 93\n",
       "\\item 27\n",
       "\\end{enumerate*}\n"
      ],
      "text/markdown": [
       "1. 93\n",
       "2. 27\n",
       "\n",
       "\n"
      ],
      "text/plain": [
       "[1] 93 27"
      ]
     },
     "metadata": {},
     "output_type": "display_data"
    }
   ],
   "source": [
    "library('MASS')\n",
    "\n",
    "dim(Cars93)"
   ]
  },
  {
   "cell_type": "markdown",
   "metadata": {},
   "source": [
    "The cars 93 data from the MASS library has 93 rows and 27 columns."
   ]
  },
  {
   "cell_type": "code",
   "execution_count": 2,
   "metadata": {},
   "outputs": [
    {
     "name": "stdout",
     "output_type": "stream",
     "text": [
      "[1] 27\n"
     ]
    }
   ],
   "source": [
    "print(ncol(Cars93))"
   ]
  },
  {
   "cell_type": "code",
   "execution_count": 3,
   "metadata": {},
   "outputs": [
    {
     "name": "stdout",
     "output_type": "stream",
     "text": [
      "[1] 93\n"
     ]
    }
   ],
   "source": [
    "print(nrow(Cars93))"
   ]
  },
  {
   "cell_type": "code",
   "execution_count": 4,
   "metadata": {},
   "outputs": [
    {
     "data": {
      "text/html": [
       "<table>\n",
       "<thead><tr><th scope=col>Manufacturer</th><th scope=col>Model</th><th scope=col>Type</th><th scope=col>Min.Price</th><th scope=col>Price</th><th scope=col>Max.Price</th><th scope=col>MPG.city</th><th scope=col>MPG.highway</th><th scope=col>AirBags</th><th scope=col>DriveTrain</th><th scope=col>...</th><th scope=col>Passengers</th><th scope=col>Length</th><th scope=col>Wheelbase</th><th scope=col>Width</th><th scope=col>Turn.circle</th><th scope=col>Rear.seat.room</th><th scope=col>Luggage.room</th><th scope=col>Weight</th><th scope=col>Origin</th><th scope=col>Make</th></tr></thead>\n",
       "<tbody>\n",
       "\t<tr><td>Acura             </td><td>Integra           </td><td>Small             </td><td>12.9              </td><td>15.9              </td><td>18.8              </td><td>25                </td><td>31                </td><td>None              </td><td>Front             </td><td>...               </td><td>5                 </td><td>177               </td><td>102               </td><td>68                </td><td>37                </td><td>26.5              </td><td>11                </td><td>2705              </td><td>non-USA           </td><td>Acura Integra     </td></tr>\n",
       "\t<tr><td>Acura                 </td><td>Legend                </td><td>Midsize               </td><td>29.2                  </td><td>33.9                  </td><td>38.7                  </td><td>18                    </td><td>25                    </td><td>Driver &amp; Passenger</td><td>Front                 </td><td>...                   </td><td>5                     </td><td>195                   </td><td>115                   </td><td>71                    </td><td>38                    </td><td>30.0                  </td><td>15                    </td><td>3560                  </td><td>non-USA               </td><td>Acura Legend          </td></tr>\n",
       "\t<tr><td>Audi              </td><td>90                </td><td>Compact           </td><td>25.9              </td><td>29.1              </td><td>32.3              </td><td>20                </td><td>26                </td><td>Driver only       </td><td>Front             </td><td>...               </td><td>5                 </td><td>180               </td><td>102               </td><td>67                </td><td>37                </td><td>28.0              </td><td>14                </td><td>3375              </td><td>non-USA           </td><td>Audi 90           </td></tr>\n",
       "\t<tr><td>Audi                                                 </td><td><span style=white-space:pre-wrap>100    </span>      </td><td>Midsize                                              </td><td>30.8                                                 </td><td>37.7                                                 </td><td>44.6                                                 </td><td>19                                                   </td><td>26                                                   </td><td>Driver &amp; Passenger                               </td><td>Front                                                </td><td>...                                                  </td><td>6                                                    </td><td>193                                                  </td><td>106                                                  </td><td>70                                                   </td><td>37                                                   </td><td>31.0                                                 </td><td>17                                                   </td><td>3405                                                 </td><td>non-USA                                              </td><td><span style=white-space:pre-wrap>Audi 100     </span></td></tr>\n",
       "\t<tr><td>BMW               </td><td>535i              </td><td>Midsize           </td><td>23.7              </td><td>30.0              </td><td>36.2              </td><td>22                </td><td>30                </td><td>Driver only       </td><td>Rear              </td><td>...               </td><td>4                 </td><td>186               </td><td>109               </td><td>69                </td><td>39                </td><td>27.0              </td><td>13                </td><td>3640              </td><td>non-USA           </td><td>BMW 535i          </td></tr>\n",
       "\t<tr><td>Buick             </td><td>Century           </td><td>Midsize           </td><td>14.2              </td><td>15.7              </td><td>17.3              </td><td>22                </td><td>31                </td><td>Driver only       </td><td>Front             </td><td>...               </td><td>6                 </td><td>189               </td><td>105               </td><td>69                </td><td>41                </td><td>28.0              </td><td>16                </td><td>2880              </td><td>USA               </td><td>Buick Century     </td></tr>\n",
       "</tbody>\n",
       "</table>\n"
      ],
      "text/latex": [
       "\\begin{tabular}{r|lllllllllllllllllllllllllll}\n",
       " Manufacturer & Model & Type & Min.Price & Price & Max.Price & MPG.city & MPG.highway & AirBags & DriveTrain & ... & Passengers & Length & Wheelbase & Width & Turn.circle & Rear.seat.room & Luggage.room & Weight & Origin & Make\\\\\n",
       "\\hline\n",
       "\t Acura              & Integra            & Small              & 12.9               & 15.9               & 18.8               & 25                 & 31                 & None               & Front              & ...                & 5                  & 177                & 102                & 68                 & 37                 & 26.5               & 11                 & 2705               & non-USA            & Acura Integra     \\\\\n",
       "\t Acura                & Legend               & Midsize              & 29.2                 & 33.9                 & 38.7                 & 18                   & 25                   & Driver \\& Passenger & Front                & ...                  & 5                    & 195                  & 115                  & 71                   & 38                   & 30.0                 & 15                   & 3560                 & non-USA              & Acura Legend        \\\\\n",
       "\t Audi               & 90                 & Compact            & 25.9               & 29.1               & 32.3               & 20                 & 26                 & Driver only        & Front              & ...                & 5                  & 180                & 102                & 67                 & 37                 & 28.0               & 14                 & 3375               & non-USA            & Audi 90           \\\\\n",
       "\t Audi                 & 100                  & Midsize              & 30.8                 & 37.7                 & 44.6                 & 19                   & 26                   & Driver \\& Passenger & Front                & ...                  & 6                    & 193                  & 106                  & 70                   & 37                   & 31.0                 & 17                   & 3405                 & non-USA              & Audi 100            \\\\\n",
       "\t BMW                & 535i               & Midsize            & 23.7               & 30.0               & 36.2               & 22                 & 30                 & Driver only        & Rear               & ...                & 4                  & 186                & 109                & 69                 & 39                 & 27.0               & 13                 & 3640               & non-USA            & BMW 535i          \\\\\n",
       "\t Buick              & Century            & Midsize            & 14.2               & 15.7               & 17.3               & 22                 & 31                 & Driver only        & Front              & ...                & 6                  & 189                & 105                & 69                 & 41                 & 28.0               & 16                 & 2880               & USA                & Buick Century     \\\\\n",
       "\\end{tabular}\n"
      ],
      "text/markdown": [
       "\n",
       "| Manufacturer | Model | Type | Min.Price | Price | Max.Price | MPG.city | MPG.highway | AirBags | DriveTrain | ... | Passengers | Length | Wheelbase | Width | Turn.circle | Rear.seat.room | Luggage.room | Weight | Origin | Make |\n",
       "|---|---|---|---|---|---|---|---|---|---|---|---|---|---|---|---|---|---|---|---|---|\n",
       "| Acura              | Integra            | Small              | 12.9               | 15.9               | 18.8               | 25                 | 31                 | None               | Front              | ...                | 5                  | 177                | 102                | 68                 | 37                 | 26.5               | 11                 | 2705               | non-USA            | Acura Integra      |\n",
       "| Acura              | Legend             | Midsize            | 29.2               | 33.9               | 38.7               | 18                 | 25                 | Driver & Passenger | Front              | ...                | 5                  | 195                | 115                | 71                 | 38                 | 30.0               | 15                 | 3560               | non-USA            | Acura Legend       |\n",
       "| Audi               | 90                 | Compact            | 25.9               | 29.1               | 32.3               | 20                 | 26                 | Driver only        | Front              | ...                | 5                  | 180                | 102                | 67                 | 37                 | 28.0               | 14                 | 3375               | non-USA            | Audi 90            |\n",
       "| Audi               | 100                | Midsize            | 30.8               | 37.7               | 44.6               | 19                 | 26                 | Driver & Passenger | Front              | ...                | 6                  | 193                | 106                | 70                 | 37                 | 31.0               | 17                 | 3405               | non-USA            | Audi 100           |\n",
       "| BMW                | 535i               | Midsize            | 23.7               | 30.0               | 36.2               | 22                 | 30                 | Driver only        | Rear               | ...                | 4                  | 186                | 109                | 69                 | 39                 | 27.0               | 13                 | 3640               | non-USA            | BMW 535i           |\n",
       "| Buick              | Century            | Midsize            | 14.2               | 15.7               | 17.3               | 22                 | 31                 | Driver only        | Front              | ...                | 6                  | 189                | 105                | 69                 | 41                 | 28.0               | 16                 | 2880               | USA                | Buick Century      |\n",
       "\n"
      ],
      "text/plain": [
       "  Manufacturer Model   Type    Min.Price Price Max.Price MPG.city MPG.highway\n",
       "1 Acura        Integra Small   12.9      15.9  18.8      25       31         \n",
       "2 Acura        Legend  Midsize 29.2      33.9  38.7      18       25         \n",
       "3 Audi         90      Compact 25.9      29.1  32.3      20       26         \n",
       "4 Audi         100     Midsize 30.8      37.7  44.6      19       26         \n",
       "5 BMW          535i    Midsize 23.7      30.0  36.2      22       30         \n",
       "6 Buick        Century Midsize 14.2      15.7  17.3      22       31         \n",
       "  AirBags            DriveTrain ... Passengers Length Wheelbase Width\n",
       "1 None               Front      ... 5          177    102       68   \n",
       "2 Driver & Passenger Front      ... 5          195    115       71   \n",
       "3 Driver only        Front      ... 5          180    102       67   \n",
       "4 Driver & Passenger Front      ... 6          193    106       70   \n",
       "5 Driver only        Rear       ... 4          186    109       69   \n",
       "6 Driver only        Front      ... 6          189    105       69   \n",
       "  Turn.circle Rear.seat.room Luggage.room Weight Origin  Make         \n",
       "1 37          26.5           11           2705   non-USA Acura Integra\n",
       "2 38          30.0           15           3560   non-USA Acura Legend \n",
       "3 37          28.0           14           3375   non-USA Audi 90      \n",
       "4 37          31.0           17           3405   non-USA Audi 100     \n",
       "5 39          27.0           13           3640   non-USA BMW 535i     \n",
       "6 41          28.0           16           2880   USA     Buick Century"
      ]
     },
     "metadata": {},
     "output_type": "display_data"
    }
   ],
   "source": [
    "head(Cars93)"
   ]
  },
  {
   "cell_type": "markdown",
   "metadata": {},
   "source": [
    "Lets convert this to a tibble so its easy to work with"
   ]
  },
  {
   "cell_type": "code",
   "execution_count": 5,
   "metadata": {},
   "outputs": [
    {
     "name": "stderr",
     "output_type": "stream",
     "text": [
      "-- Attaching packages --------------------------------------- tidyverse 1.2.1 --\n",
      "v ggplot2 3.1.0     v purrr   0.3.0\n",
      "v tibble  2.0.1     v dplyr   0.7.8\n",
      "v tidyr   0.8.2     v stringr 1.4.0\n",
      "v readr   1.3.1     v forcats 0.3.0\n",
      "-- Conflicts ------------------------------------------ tidyverse_conflicts() --\n",
      "x dplyr::filter() masks stats::filter()\n",
      "x dplyr::lag()    masks stats::lag()\n",
      "x dplyr::select() masks MASS::select()\n"
     ]
    }
   ],
   "source": [
    "library(tidyverse)"
   ]
  },
  {
   "cell_type": "code",
   "execution_count": 6,
   "metadata": {},
   "outputs": [
    {
     "data": {
      "text/html": [
       "<table>\n",
       "<thead><tr><th scope=col>Manufacturer</th><th scope=col>Model</th><th scope=col>Type</th><th scope=col>Min.Price</th><th scope=col>Price</th><th scope=col>Max.Price</th><th scope=col>MPG.city</th><th scope=col>MPG.highway</th><th scope=col>AirBags</th><th scope=col>DriveTrain</th><th scope=col>...</th><th scope=col>Passengers</th><th scope=col>Length</th><th scope=col>Wheelbase</th><th scope=col>Width</th><th scope=col>Turn.circle</th><th scope=col>Rear.seat.room</th><th scope=col>Luggage.room</th><th scope=col>Weight</th><th scope=col>Origin</th><th scope=col>Make</th></tr></thead>\n",
       "<tbody>\n",
       "\t<tr><td>Acura             </td><td>Integra           </td><td>Small             </td><td>12.9              </td><td>15.9              </td><td>18.8              </td><td>25                </td><td>31                </td><td>None              </td><td>Front             </td><td>...               </td><td>5                 </td><td>177               </td><td>102               </td><td>68                </td><td>37                </td><td>26.5              </td><td>11                </td><td>2705              </td><td>non-USA           </td><td>Acura Integra     </td></tr>\n",
       "\t<tr><td>Acura                 </td><td>Legend                </td><td>Midsize               </td><td>29.2                  </td><td>33.9                  </td><td>38.7                  </td><td>18                    </td><td>25                    </td><td>Driver &amp; Passenger</td><td>Front                 </td><td>...                   </td><td>5                     </td><td>195                   </td><td>115                   </td><td>71                    </td><td>38                    </td><td>30.0                  </td><td>15                    </td><td>3560                  </td><td>non-USA               </td><td>Acura Legend          </td></tr>\n",
       "\t<tr><td>Audi              </td><td>90                </td><td>Compact           </td><td>25.9              </td><td>29.1              </td><td>32.3              </td><td>20                </td><td>26                </td><td>Driver only       </td><td>Front             </td><td>...               </td><td>5                 </td><td>180               </td><td>102               </td><td>67                </td><td>37                </td><td>28.0              </td><td>14                </td><td>3375              </td><td>non-USA           </td><td>Audi 90           </td></tr>\n",
       "\t<tr><td>Audi                                                 </td><td><span style=white-space:pre-wrap>100    </span>      </td><td>Midsize                                              </td><td>30.8                                                 </td><td>37.7                                                 </td><td>44.6                                                 </td><td>19                                                   </td><td>26                                                   </td><td>Driver &amp; Passenger                               </td><td>Front                                                </td><td>...                                                  </td><td>6                                                    </td><td>193                                                  </td><td>106                                                  </td><td>70                                                   </td><td>37                                                   </td><td>31.0                                                 </td><td>17                                                   </td><td>3405                                                 </td><td>non-USA                                              </td><td><span style=white-space:pre-wrap>Audi 100     </span></td></tr>\n",
       "\t<tr><td>BMW               </td><td>535i              </td><td>Midsize           </td><td>23.7              </td><td>30.0              </td><td>36.2              </td><td>22                </td><td>30                </td><td>Driver only       </td><td>Rear              </td><td>...               </td><td>4                 </td><td>186               </td><td>109               </td><td>69                </td><td>39                </td><td>27.0              </td><td>13                </td><td>3640              </td><td>non-USA           </td><td>BMW 535i          </td></tr>\n",
       "\t<tr><td>Buick             </td><td>Century           </td><td>Midsize           </td><td>14.2              </td><td>15.7              </td><td>17.3              </td><td>22                </td><td>31                </td><td>Driver only       </td><td>Front             </td><td>...               </td><td>6                 </td><td>189               </td><td>105               </td><td>69                </td><td>41                </td><td>28.0              </td><td>16                </td><td>2880              </td><td>USA               </td><td>Buick Century     </td></tr>\n",
       "</tbody>\n",
       "</table>\n"
      ],
      "text/latex": [
       "\\begin{tabular}{r|lllllllllllllllllllllllllll}\n",
       " Manufacturer & Model & Type & Min.Price & Price & Max.Price & MPG.city & MPG.highway & AirBags & DriveTrain & ... & Passengers & Length & Wheelbase & Width & Turn.circle & Rear.seat.room & Luggage.room & Weight & Origin & Make\\\\\n",
       "\\hline\n",
       "\t Acura              & Integra            & Small              & 12.9               & 15.9               & 18.8               & 25                 & 31                 & None               & Front              & ...                & 5                  & 177                & 102                & 68                 & 37                 & 26.5               & 11                 & 2705               & non-USA            & Acura Integra     \\\\\n",
       "\t Acura                & Legend               & Midsize              & 29.2                 & 33.9                 & 38.7                 & 18                   & 25                   & Driver \\& Passenger & Front                & ...                  & 5                    & 195                  & 115                  & 71                   & 38                   & 30.0                 & 15                   & 3560                 & non-USA              & Acura Legend        \\\\\n",
       "\t Audi               & 90                 & Compact            & 25.9               & 29.1               & 32.3               & 20                 & 26                 & Driver only        & Front              & ...                & 5                  & 180                & 102                & 67                 & 37                 & 28.0               & 14                 & 3375               & non-USA            & Audi 90           \\\\\n",
       "\t Audi                 & 100                  & Midsize              & 30.8                 & 37.7                 & 44.6                 & 19                   & 26                   & Driver \\& Passenger & Front                & ...                  & 6                    & 193                  & 106                  & 70                   & 37                   & 31.0                 & 17                   & 3405                 & non-USA              & Audi 100            \\\\\n",
       "\t BMW                & 535i               & Midsize            & 23.7               & 30.0               & 36.2               & 22                 & 30                 & Driver only        & Rear               & ...                & 4                  & 186                & 109                & 69                 & 39                 & 27.0               & 13                 & 3640               & non-USA            & BMW 535i          \\\\\n",
       "\t Buick              & Century            & Midsize            & 14.2               & 15.7               & 17.3               & 22                 & 31                 & Driver only        & Front              & ...                & 6                  & 189                & 105                & 69                 & 41                 & 28.0               & 16                 & 2880               & USA                & Buick Century     \\\\\n",
       "\\end{tabular}\n"
      ],
      "text/markdown": [
       "\n",
       "| Manufacturer | Model | Type | Min.Price | Price | Max.Price | MPG.city | MPG.highway | AirBags | DriveTrain | ... | Passengers | Length | Wheelbase | Width | Turn.circle | Rear.seat.room | Luggage.room | Weight | Origin | Make |\n",
       "|---|---|---|---|---|---|---|---|---|---|---|---|---|---|---|---|---|---|---|---|---|\n",
       "| Acura              | Integra            | Small              | 12.9               | 15.9               | 18.8               | 25                 | 31                 | None               | Front              | ...                | 5                  | 177                | 102                | 68                 | 37                 | 26.5               | 11                 | 2705               | non-USA            | Acura Integra      |\n",
       "| Acura              | Legend             | Midsize            | 29.2               | 33.9               | 38.7               | 18                 | 25                 | Driver & Passenger | Front              | ...                | 5                  | 195                | 115                | 71                 | 38                 | 30.0               | 15                 | 3560               | non-USA            | Acura Legend       |\n",
       "| Audi               | 90                 | Compact            | 25.9               | 29.1               | 32.3               | 20                 | 26                 | Driver only        | Front              | ...                | 5                  | 180                | 102                | 67                 | 37                 | 28.0               | 14                 | 3375               | non-USA            | Audi 90            |\n",
       "| Audi               | 100                | Midsize            | 30.8               | 37.7               | 44.6               | 19                 | 26                 | Driver & Passenger | Front              | ...                | 6                  | 193                | 106                | 70                 | 37                 | 31.0               | 17                 | 3405               | non-USA            | Audi 100           |\n",
       "| BMW                | 535i               | Midsize            | 23.7               | 30.0               | 36.2               | 22                 | 30                 | Driver only        | Rear               | ...                | 4                  | 186                | 109                | 69                 | 39                 | 27.0               | 13                 | 3640               | non-USA            | BMW 535i           |\n",
       "| Buick              | Century            | Midsize            | 14.2               | 15.7               | 17.3               | 22                 | 31                 | Driver only        | Front              | ...                | 6                  | 189                | 105                | 69                 | 41                 | 28.0               | 16                 | 2880               | USA                | Buick Century      |\n",
       "\n"
      ],
      "text/plain": [
       "  Manufacturer Model   Type    Min.Price Price Max.Price MPG.city MPG.highway\n",
       "1 Acura        Integra Small   12.9      15.9  18.8      25       31         \n",
       "2 Acura        Legend  Midsize 29.2      33.9  38.7      18       25         \n",
       "3 Audi         90      Compact 25.9      29.1  32.3      20       26         \n",
       "4 Audi         100     Midsize 30.8      37.7  44.6      19       26         \n",
       "5 BMW          535i    Midsize 23.7      30.0  36.2      22       30         \n",
       "6 Buick        Century Midsize 14.2      15.7  17.3      22       31         \n",
       "  AirBags            DriveTrain ... Passengers Length Wheelbase Width\n",
       "1 None               Front      ... 5          177    102       68   \n",
       "2 Driver & Passenger Front      ... 5          195    115       71   \n",
       "3 Driver only        Front      ... 5          180    102       67   \n",
       "4 Driver & Passenger Front      ... 6          193    106       70   \n",
       "5 Driver only        Rear       ... 4          186    109       69   \n",
       "6 Driver only        Front      ... 6          189    105       69   \n",
       "  Turn.circle Rear.seat.room Luggage.room Weight Origin  Make         \n",
       "1 37          26.5           11           2705   non-USA Acura Integra\n",
       "2 38          30.0           15           3560   non-USA Acura Legend \n",
       "3 37          28.0           14           3375   non-USA Audi 90      \n",
       "4 37          31.0           17           3405   non-USA Audi 100     \n",
       "5 39          27.0           13           3640   non-USA BMW 535i     \n",
       "6 41          28.0           16           2880   USA     Buick Century"
      ]
     },
     "metadata": {},
     "output_type": "display_data"
    }
   ],
   "source": [
    "cars_df = as_tibble(Cars93)\n",
    "head(cars_df)"
   ]
  },
  {
   "cell_type": "markdown",
   "metadata": {},
   "source": [
    "Now lets count the number of cars that originated in USA."
   ]
  },
  {
   "cell_type": "code",
   "execution_count": 7,
   "metadata": {},
   "outputs": [
    {
     "data": {
      "text/html": [
       "48"
      ],
      "text/latex": [
       "48"
      ],
      "text/markdown": [
       "48"
      ],
      "text/plain": [
       "[1] 48"
      ]
     },
     "metadata": {},
     "output_type": "display_data"
    }
   ],
   "source": [
    "cars_df %>%\n",
    "  filter(Origin == 'USA') %>%\n",
    "  count() %>%\n",
    ".[[1]]"
   ]
  },
  {
   "cell_type": "markdown",
   "metadata": {},
   "source": [
    "48 Cars from the data have origin in the USA."
   ]
  },
  {
   "cell_type": "markdown",
   "metadata": {},
   "source": [
    "To get the cars that are not originated in the USA, we can use the `!` sign"
   ]
  },
  {
   "cell_type": "code",
   "execution_count": 8,
   "metadata": {},
   "outputs": [
    {
     "data": {
      "text/html": [
       "45"
      ],
      "text/latex": [
       "45"
      ],
      "text/markdown": [
       "45"
      ],
      "text/plain": [
       "[1] 45"
      ]
     },
     "metadata": {},
     "output_type": "display_data"
    }
   ],
   "source": [
    "cars_df %>%\n",
    "  filter(Origin != 'USA') %>%\n",
    "  count() %>%\n",
    ".[[1]]"
   ]
  },
  {
   "cell_type": "markdown",
   "metadata": {},
   "source": [
    "45 cars are not originated from the USA."
   ]
  },
  {
   "cell_type": "markdown",
   "metadata": {},
   "source": [
    "A more complicated filter is for the following condition.\n",
    "\n",
    "Car Originated in the USA and has 4 Cylinders."
   ]
  },
  {
   "cell_type": "code",
   "execution_count": 9,
   "metadata": {},
   "outputs": [
    {
     "data": {
      "text/html": [
       "22"
      ],
      "text/latex": [
       "22"
      ],
      "text/markdown": [
       "22"
      ],
      "text/plain": [
       "[1] 22"
      ]
     },
     "metadata": {},
     "output_type": "display_data"
    }
   ],
   "source": [
    "cars_df %>%\n",
    "  filter(Origin == 'USA' & Cylinders == 4) %>%\n",
    "  count() %>%\n",
    ".[[1]]"
   ]
  },
  {
   "cell_type": "markdown",
   "metadata": {},
   "source": [
    "So 22 cars that have cylinders and origin as USA."
   ]
  },
  {
   "cell_type": "markdown",
   "metadata": {},
   "source": [
    "---\n",
    "Get hthe max and min horsepower of the cars."
   ]
  },
  {
   "cell_type": "markdown",
   "metadata": {},
   "source": [
    "Max Horsepower"
   ]
  },
  {
   "cell_type": "code",
   "execution_count": 10,
   "metadata": {},
   "outputs": [
    {
     "data": {
      "text/html": [
       "300"
      ],
      "text/latex": [
       "300"
      ],
      "text/markdown": [
       "300"
      ],
      "text/plain": [
       "[1] 300"
      ]
     },
     "metadata": {},
     "output_type": "display_data"
    }
   ],
   "source": [
    "max(cars_df$Horsepower)"
   ]
  },
  {
   "cell_type": "markdown",
   "metadata": {},
   "source": [
    "Minimum Horserpower"
   ]
  },
  {
   "cell_type": "code",
   "execution_count": 11,
   "metadata": {},
   "outputs": [
    {
     "data": {
      "text/html": [
       "55"
      ],
      "text/latex": [
       "55"
      ],
      "text/markdown": [
       "55"
      ],
      "text/plain": [
       "[1] 55"
      ]
     },
     "metadata": {},
     "output_type": "display_data"
    }
   ],
   "source": [
    "min(cars_df$Horsepower)"
   ]
  },
  {
   "cell_type": "markdown",
   "metadata": {},
   "source": [
    "Frequency of cars with different sizes."
   ]
  },
  {
   "cell_type": "code",
   "execution_count": 12,
   "metadata": {
    "scrolled": true
   },
   "outputs": [
    {
     "data": {
      "text/html": [
       "<table>\n",
       "<thead><tr><th scope=col>Type</th><th scope=col>n</th></tr></thead>\n",
       "<tbody>\n",
       "\t<tr><td>Compact</td><td>16     </td></tr>\n",
       "\t<tr><td>Large  </td><td>11     </td></tr>\n",
       "\t<tr><td>Midsize</td><td>22     </td></tr>\n",
       "\t<tr><td>Small  </td><td>21     </td></tr>\n",
       "\t<tr><td>Sporty </td><td>14     </td></tr>\n",
       "\t<tr><td>Van    </td><td> 9     </td></tr>\n",
       "</tbody>\n",
       "</table>\n"
      ],
      "text/latex": [
       "\\begin{tabular}{r|ll}\n",
       " Type & n\\\\\n",
       "\\hline\n",
       "\t Compact & 16     \\\\\n",
       "\t Large   & 11     \\\\\n",
       "\t Midsize & 22     \\\\\n",
       "\t Small   & 21     \\\\\n",
       "\t Sporty  & 14     \\\\\n",
       "\t Van     &  9     \\\\\n",
       "\\end{tabular}\n"
      ],
      "text/markdown": [
       "\n",
       "| Type | n |\n",
       "|---|---|\n",
       "| Compact | 16      |\n",
       "| Large   | 11      |\n",
       "| Midsize | 22      |\n",
       "| Small   | 21      |\n",
       "| Sporty  | 14      |\n",
       "| Van     |  9      |\n",
       "\n"
      ],
      "text/plain": [
       "  Type    n \n",
       "1 Compact 16\n",
       "2 Large   11\n",
       "3 Midsize 22\n",
       "4 Small   21\n",
       "5 Sporty  14\n",
       "6 Van      9"
      ]
     },
     "metadata": {},
     "output_type": "display_data"
    }
   ],
   "source": [
    "cars_df %>%\n",
    "  group_by(Type) %>%\n",
    "  tally()"
   ]
  },
  {
   "cell_type": "code",
   "execution_count": 13,
   "metadata": {
    "scrolled": true
   },
   "outputs": [
    {
     "data": {
      "text/html": [
       "<table>\n",
       "<thead><tr><th scope=col>Type</th><th scope=col>Origin</th><th scope=col>n</th></tr></thead>\n",
       "<tbody>\n",
       "\t<tr><td>Compact</td><td>USA    </td><td> 7     </td></tr>\n",
       "\t<tr><td>Compact</td><td>non-USA</td><td> 9     </td></tr>\n",
       "\t<tr><td>Large  </td><td>USA    </td><td>11     </td></tr>\n",
       "\t<tr><td>Midsize</td><td>USA    </td><td>10     </td></tr>\n",
       "\t<tr><td>Midsize</td><td>non-USA</td><td>12     </td></tr>\n",
       "\t<tr><td>Small  </td><td>USA    </td><td> 7     </td></tr>\n",
       "\t<tr><td>Small  </td><td>non-USA</td><td>14     </td></tr>\n",
       "\t<tr><td>Sporty </td><td>USA    </td><td> 8     </td></tr>\n",
       "\t<tr><td>Sporty </td><td>non-USA</td><td> 6     </td></tr>\n",
       "\t<tr><td>Van    </td><td>USA    </td><td> 5     </td></tr>\n",
       "\t<tr><td>Van    </td><td>non-USA</td><td> 4     </td></tr>\n",
       "</tbody>\n",
       "</table>\n"
      ],
      "text/latex": [
       "\\begin{tabular}{r|lll}\n",
       " Type & Origin & n\\\\\n",
       "\\hline\n",
       "\t Compact & USA     &  7     \\\\\n",
       "\t Compact & non-USA &  9     \\\\\n",
       "\t Large   & USA     & 11     \\\\\n",
       "\t Midsize & USA     & 10     \\\\\n",
       "\t Midsize & non-USA & 12     \\\\\n",
       "\t Small   & USA     &  7     \\\\\n",
       "\t Small   & non-USA & 14     \\\\\n",
       "\t Sporty  & USA     &  8     \\\\\n",
       "\t Sporty  & non-USA &  6     \\\\\n",
       "\t Van     & USA     &  5     \\\\\n",
       "\t Van     & non-USA &  4     \\\\\n",
       "\\end{tabular}\n"
      ],
      "text/markdown": [
       "\n",
       "| Type | Origin | n |\n",
       "|---|---|---|\n",
       "| Compact | USA     |  7      |\n",
       "| Compact | non-USA |  9      |\n",
       "| Large   | USA     | 11      |\n",
       "| Midsize | USA     | 10      |\n",
       "| Midsize | non-USA | 12      |\n",
       "| Small   | USA     |  7      |\n",
       "| Small   | non-USA | 14      |\n",
       "| Sporty  | USA     |  8      |\n",
       "| Sporty  | non-USA |  6      |\n",
       "| Van     | USA     |  5      |\n",
       "| Van     | non-USA |  4      |\n",
       "\n"
      ],
      "text/plain": [
       "   Type    Origin  n \n",
       "1  Compact USA      7\n",
       "2  Compact non-USA  9\n",
       "3  Large   USA     11\n",
       "4  Midsize USA     10\n",
       "5  Midsize non-USA 12\n",
       "6  Small   USA      7\n",
       "7  Small   non-USA 14\n",
       "8  Sporty  USA      8\n",
       "9  Sporty  non-USA  6\n",
       "10 Van     USA      5\n",
       "11 Van     non-USA  4"
      ]
     },
     "metadata": {},
     "output_type": "display_data"
    }
   ],
   "source": [
    "cars_df %>%\n",
    "  group_by(Type) %>%\n",
    "  count(Origin)"
   ]
  },
  {
   "cell_type": "markdown",
   "metadata": {},
   "source": [
    "Get the proportion of each count."
   ]
  },
  {
   "cell_type": "code",
   "execution_count": 14,
   "metadata": {},
   "outputs": [
    {
     "data": {
      "text/html": [
       "<table>\n",
       "<thead><tr><th scope=col>Type</th><th scope=col>n</th><th scope=col>prop_percent</th></tr></thead>\n",
       "<tbody>\n",
       "\t<tr><td>Compact</td><td>16     </td><td>17     </td></tr>\n",
       "\t<tr><td>Large  </td><td>11     </td><td>12     </td></tr>\n",
       "\t<tr><td>Midsize</td><td>22     </td><td>24     </td></tr>\n",
       "\t<tr><td>Small  </td><td>21     </td><td>23     </td></tr>\n",
       "\t<tr><td>Sporty </td><td>14     </td><td>15     </td></tr>\n",
       "\t<tr><td>Van    </td><td> 9     </td><td>10     </td></tr>\n",
       "</tbody>\n",
       "</table>\n"
      ],
      "text/latex": [
       "\\begin{tabular}{r|lll}\n",
       " Type & n & prop\\_percent\\\\\n",
       "\\hline\n",
       "\t Compact & 16      & 17     \\\\\n",
       "\t Large   & 11      & 12     \\\\\n",
       "\t Midsize & 22      & 24     \\\\\n",
       "\t Small   & 21      & 23     \\\\\n",
       "\t Sporty  & 14      & 15     \\\\\n",
       "\t Van     &  9      & 10     \\\\\n",
       "\\end{tabular}\n"
      ],
      "text/markdown": [
       "\n",
       "| Type | n | prop_percent |\n",
       "|---|---|---|\n",
       "| Compact | 16      | 17      |\n",
       "| Large   | 11      | 12      |\n",
       "| Midsize | 22      | 24      |\n",
       "| Small   | 21      | 23      |\n",
       "| Sporty  | 14      | 15      |\n",
       "| Van     |  9      | 10      |\n",
       "\n"
      ],
      "text/plain": [
       "  Type    n  prop_percent\n",
       "1 Compact 16 17          \n",
       "2 Large   11 12          \n",
       "3 Midsize 22 24          \n",
       "4 Small   21 23          \n",
       "5 Sporty  14 15          \n",
       "6 Van      9 10          "
      ]
     },
     "metadata": {},
     "output_type": "display_data"
    }
   ],
   "source": [
    "\n",
    "cars_df %>%\n",
    "  group_by(Type) %>%\n",
    "  summarise(n = n()) %>%\n",
    "  mutate(prop_percent = round(n/sum(n) * 100))"
   ]
  },
  {
   "cell_type": "markdown",
   "metadata": {},
   "source": [
    "Creating a Frequency distribution table for the Car Prices."
   ]
  },
  {
   "cell_type": "code",
   "execution_count": 15,
   "metadata": {
    "scrolled": true
   },
   "outputs": [
    {
     "data": {
      "text/html": [
       "<table>\n",
       "<thead><tr><th scope=col>price_range</th><th scope=col>freq</th></tr></thead>\n",
       "<tbody>\n",
       "\t<tr><td>(0,10] </td><td>12     </td></tr>\n",
       "\t<tr><td>(10,20]</td><td>50     </td></tr>\n",
       "\t<tr><td>(20,30]</td><td>19     </td></tr>\n",
       "\t<tr><td>(30,40]</td><td> 9     </td></tr>\n",
       "\t<tr><td>(40,50]</td><td> 2     </td></tr>\n",
       "\t<tr><td>(60,70]</td><td> 1     </td></tr>\n",
       "</tbody>\n",
       "</table>\n"
      ],
      "text/latex": [
       "\\begin{tabular}{r|ll}\n",
       " price\\_range & freq\\\\\n",
       "\\hline\n",
       "\t (0,10{]}  & 12       \\\\\n",
       "\t (10,20{]} & 50       \\\\\n",
       "\t (20,30{]} & 19       \\\\\n",
       "\t (30,40{]} &  9       \\\\\n",
       "\t (40,50{]} &  2       \\\\\n",
       "\t (60,70{]} &  1       \\\\\n",
       "\\end{tabular}\n"
      ],
      "text/markdown": [
       "\n",
       "| price_range | freq |\n",
       "|---|---|\n",
       "| (0,10]  | 12      |\n",
       "| (10,20] | 50      |\n",
       "| (20,30] | 19      |\n",
       "| (30,40] |  9      |\n",
       "| (40,50] |  2      |\n",
       "| (60,70] |  1      |\n",
       "\n"
      ],
      "text/plain": [
       "  price_range freq\n",
       "1 (0,10]      12  \n",
       "2 (10,20]     50  \n",
       "3 (20,30]     19  \n",
       "4 (30,40]      9  \n",
       "5 (40,50]      2  \n",
       "6 (60,70]      1  "
      ]
     },
     "metadata": {},
     "output_type": "display_data"
    }
   ],
   "source": [
    "cars_df %>%\n",
    "  group_by(price_range = cut(Price,breaks = seq(0, max(Price) + 10, 10))) %>%\n",
    "  summarise(freq = n())"
   ]
  },
  {
   "cell_type": "markdown",
   "metadata": {},
   "source": [
    "Creating a Cumulative Frequency Table."
   ]
  },
  {
   "cell_type": "code",
   "execution_count": 16,
   "metadata": {},
   "outputs": [
    {
     "data": {
      "text/html": [
       "<table>\n",
       "<thead><tr><th scope=col>group</th><th scope=col>freq</th><th scope=col>cumulative_freq</th></tr></thead>\n",
       "<tbody>\n",
       "\t<tr><td>(0,10] </td><td>12     </td><td>12     </td></tr>\n",
       "\t<tr><td>(10,20]</td><td>50     </td><td>62     </td></tr>\n",
       "\t<tr><td>(20,30]</td><td>19     </td><td>81     </td></tr>\n",
       "\t<tr><td>(30,40]</td><td> 9     </td><td>90     </td></tr>\n",
       "\t<tr><td>(40,50]</td><td> 2     </td><td>92     </td></tr>\n",
       "\t<tr><td>(60,70]</td><td> 1     </td><td>93     </td></tr>\n",
       "</tbody>\n",
       "</table>\n"
      ],
      "text/latex": [
       "\\begin{tabular}{r|lll}\n",
       " group & freq & cumulative\\_freq\\\\\n",
       "\\hline\n",
       "\t (0,10{]}  & 12        & 12       \\\\\n",
       "\t (10,20{]} & 50        & 62       \\\\\n",
       "\t (20,30{]} & 19        & 81       \\\\\n",
       "\t (30,40{]} &  9        & 90       \\\\\n",
       "\t (40,50{]} &  2        & 92       \\\\\n",
       "\t (60,70{]} &  1        & 93       \\\\\n",
       "\\end{tabular}\n"
      ],
      "text/markdown": [
       "\n",
       "| group | freq | cumulative_freq |\n",
       "|---|---|---|\n",
       "| (0,10]  | 12      | 12      |\n",
       "| (10,20] | 50      | 62      |\n",
       "| (20,30] | 19      | 81      |\n",
       "| (30,40] |  9      | 90      |\n",
       "| (40,50] |  2      | 92      |\n",
       "| (60,70] |  1      | 93      |\n",
       "\n"
      ],
      "text/plain": [
       "  group   freq cumulative_freq\n",
       "1 (0,10]  12   12             \n",
       "2 (10,20] 50   62             \n",
       "3 (20,30] 19   81             \n",
       "4 (30,40]  9   90             \n",
       "5 (40,50]  2   92             \n",
       "6 (60,70]  1   93             "
      ]
     },
     "metadata": {},
     "output_type": "display_data"
    }
   ],
   "source": [
    "cars_df %>%\n",
    "  group_by(group = cut(Price,breaks = seq(0, max(Price) + 10, 10))) %>%\n",
    "  summarise(freq = n()) %>%\n",
    "  mutate(cumulative_freq = cumsum(freq))"
   ]
  },
  {
   "cell_type": "code",
   "execution_count": 17,
   "metadata": {},
   "outputs": [
    {
     "data": {
      "image/png": "[encoded data removed]",
      "text/plain": [
       "plot without title"
      ]
     },
     "metadata": {},
     "output_type": "display_data"
    }
   ],
   "source": [
    "cars_df %>%\n",
    "  group_by(group = cut(Price,breaks = seq(0, max(Price) + 10, 10))) %>%\n",
    "  summarise(freq = n()) %>%\n",
    "  mutate(cumulative_freq = cumsum(freq)) %>%\n",
    "  ggplot(aes(x = group, y = cumulative_freq)) +\n",
    "  geom_bar(stat = 'identity') +\n",
    "  labs(x = 'Price range',\n",
    "       y = 'Frequency',\n",
    "       title = 'Cumulative Frequency')"
   ]
  },
  {
   "cell_type": "markdown",
   "metadata": {},
   "source": [
    "The empirical cumulative distribution function (ECDF)"
   ]
  },
  {
   "cell_type": "markdown",
   "metadata": {},
   "source": [
    "The empirical cumulative distribution function (ecdf) is closely related to cumulative frequency. Rather than show the frequency in an interval, however, the ecdf shows the proportion of scores that are less than or equal to each score"
   ]
  },
  {
   "cell_type": "code",
   "execution_count": 18,
   "metadata": {},
   "outputs": [
    {
     "data": {
      "image/png": "[encoded data removed]",
      "text/plain": [
       "plot without title"
      ]
     },
     "metadata": {},
     "output_type": "display_data"
    }
   ],
   "source": [
    "cars_df %>%\n",
    "  group_by(Price) %>%\n",
    "  summarise(n = n()) %>%\n",
    "  mutate(prop_percent = round(n/sum(n) * 100)) %>%\n",
    "  ggplot(aes(x = Price, y = prop_percent)) +\n",
    "  geom_step(stat = 'ecdf') +\n",
    "  labs(x = 'Price',\n",
    "       y = 'Cumulative Distribution',\n",
    "       title = 'Cumulative Distribution Function') +\n",
    "  scale_x_continuous(breaks = seq(0,100,10))"
   ]
  },
  {
   "cell_type": "markdown",
   "metadata": {},
   "source": [
    "Plotting the quantiles. The dashed lines represent the quantiles, of the car prices."
   ]
  },
  {
   "cell_type": "code",
   "execution_count": 19,
   "metadata": {},
   "outputs": [
    {
     "data": {
      "image/png": "[encoded data removed]",
      "text/plain": [
       "plot without title"
      ]
     },
     "metadata": {},
     "output_type": "display_data"
    }
   ],
   "source": [
    "p_quantile <- quantile(cars_df$Price)\n",
    "\n",
    "p <- cars_df %>%\n",
    "  group_by(Price) %>%\n",
    "  summarise(n = n()) %>%\n",
    "  mutate(prop_percent = round(n/sum(n) * 100)) %>%\n",
    "  ggplot(aes(x = Price, y = prop_percent)) +\n",
    "  geom_step(stat = 'ecdf') +\n",
    "  labs(x = 'Price',\n",
    "       y = 'Cumulative Distribution',\n",
    "       title = 'Cumulative Distribution Function')\n",
    "\n",
    "p +\n",
    "  geom_vline(xintercept = p_quantile,\n",
    "             linetype='dashed') +\n",
    "  scale_x_continuous(breaks = p_quantile,\n",
    "                     labels = p_quantile)"
   ]
  },
  {
   "cell_type": "markdown",
   "metadata": {},
   "source": [
    "Stem and Leaf Plot"
   ]
  },
  {
   "cell_type": "code",
   "execution_count": 20,
   "metadata": {
    "scrolled": true
   },
   "outputs": [
    {
     "name": "stdout",
     "output_type": "stream",
     "text": [
      "\n",
      "  The decimal point is 1 digit(s) to the right of the |\n",
      "\n",
      "  0 | 788889999\n",
      "  1 | 00000111111222233344444556666666667788888999999\n",
      "  2 | 00000001112333446667899\n",
      "  3 | 00234455688\n",
      "  4 | 08\n",
      "  5 | \n",
      "  6 | 2\n",
      "\n"
     ]
    }
   ],
   "source": [
    "stem(cars_df$Price)"
   ]
  },
  {
   "cell_type": "markdown",
   "metadata": {},
   "source": [
    "The value on the left is stem, and the digits on the right are leaves. The values are rounded. To read the value, we take the number on the left and multiply it by 10 and then add the number on the right.\n",
    "\n",
    "So the first row has numbers\n",
    "\n",
    "7,8,8,... etc\n",
    "\n",
    "and the last row is \n",
    "\n",
    "62."
   ]
  },
  {
   "cell_type": "code",
   "execution_count": null,
   "metadata": {},
   "outputs": [],
   "source": []
  }
 ],
 "metadata": {
  "kernelspec": {
   "display_name": "R",
   "language": "R",
   "name": "ir"
  },
  "language_info": {
   "codemirror_mode": "r",
   "file_extension": ".r",
   "mimetype": "text/x-r-source",
   "name": "R",
   "pygments_lexer": "r",
   "version": "3.5.2"
  }
 },
 "nbformat": 4,
 "nbformat_minor": 2
}
